{
 "cells": [
  {
   "cell_type": "code",
   "execution_count": 1,
   "metadata": {},
   "outputs": [],
   "source": [
    "import os\n",
    "import pandas as pd\n",
    "import media_renamer as m\n",
    "from PIL import Image\n",
    "from PIL.ExifTags import TAGS\n",
    "from pillow_heif import HeifImagePlugin"
   ]
  },
  {
   "cell_type": "code",
   "execution_count": 2,
   "metadata": {},
   "outputs": [],
   "source": [
    "%load_ext autoreload"
   ]
  },
  {
   "cell_type": "code",
   "execution_count": 3,
   "metadata": {},
   "outputs": [],
   "source": [
    "%autoreload media_renamer"
   ]
  },
  {
   "cell_type": "code",
   "execution_count": 7,
   "metadata": {},
   "outputs": [],
   "source": [
    "%autoreload 1\n",
    "#path = '/Users/volkertjaden/Dropbox/Viola und Luise/'\n",
    "path = r\"C:\\Users\\Administrator\\Dropbox\\Viola und Luise\"\n",
    "\n",
    "#l = [{'Name': el, 'Type' : el.split('.')[-1]} for el in os.listdir(path)]\n",
    "#l = [ {'Name': el, 'Type' : os.path.splitext(el)[1].lower()} for el in os.listdir(path)]\n",
    "\n",
    "R = m.Renamer(path)\n",
    "R.get_files()\n",
    "R.retrieve_datetime_from_meta()\n",
    "l = R.files\n"
   ]
  },
  {
   "cell_type": "code",
   "execution_count": 12,
   "metadata": {},
   "outputs": [
    {
     "name": "stdout",
     "output_type": "stream",
     "text": [
      "{'ExifOffset': 38, 'Orientation': 1}\n"
     ]
    }
   ],
   "source": [
    "#print(labeled_exif1)\n",
    "#print(labeled_exif2)\n",
    "print(labeled_exif3)"
   ]
  },
  {
   "cell_type": "code",
   "execution_count": 5,
   "metadata": {},
   "outputs": [
    {
     "data": {
      "text/html": [
       "<div>\n",
       "<style scoped>\n",
       "    .dataframe tbody tr th:only-of-type {\n",
       "        vertical-align: middle;\n",
       "    }\n",
       "\n",
       "    .dataframe tbody tr th {\n",
       "        vertical-align: top;\n",
       "    }\n",
       "\n",
       "    .dataframe thead th {\n",
       "        text-align: right;\n",
       "    }\n",
       "</style>\n",
       "<table border=\"1\" class=\"dataframe\">\n",
       "  <thead>\n",
       "    <tr style=\"text-align: right;\">\n",
       "      <th></th>\n",
       "      <th>Name</th>\n",
       "      <th>Type</th>\n",
       "      <th>CreateTimestamp</th>\n",
       "    </tr>\n",
       "  </thead>\n",
       "  <tbody>\n",
       "    <tr>\n",
       "      <th>0</th>\n",
       "      <td>69292821-d866-4467-bb91-19993fbdf004.JPG</td>\n",
       "      <td>.jpg</td>\n",
       "      <td>False</td>\n",
       "    </tr>\n",
       "    <tr>\n",
       "      <th>1</th>\n",
       "      <td>IMG_2282.MOV</td>\n",
       "      <td>.mov</td>\n",
       "      <td>False</td>\n",
       "    </tr>\n",
       "    <tr>\n",
       "      <th>2</th>\n",
       "      <td>20151222_091610.jpg</td>\n",
       "      <td>.jpg</td>\n",
       "      <td>2015:12:22 09:16:10</td>\n",
       "    </tr>\n",
       "    <tr>\n",
       "      <th>3</th>\n",
       "      <td>Foto 01.05.19, 15 23 29.heic</td>\n",
       "      <td>.heic</td>\n",
       "      <td>2019:05:01 15:23:30</td>\n",
       "    </tr>\n",
       "    <tr>\n",
       "      <th>4</th>\n",
       "      <td>Foto 01.05.19, 15 23 28.heic</td>\n",
       "      <td>.heic</td>\n",
       "      <td>2019:05:01 15:23:28</td>\n",
       "    </tr>\n",
       "    <tr>\n",
       "      <th>5</th>\n",
       "      <td>Foto 19.10.22, 11 47 56.png</td>\n",
       "      <td>.png</td>\n",
       "      <td>False</td>\n",
       "    </tr>\n",
       "    <tr>\n",
       "      <th>6</th>\n",
       "      <td>20151221_151543.jpg</td>\n",
       "      <td>.jpg</td>\n",
       "      <td>2015:12:21 15:15:43</td>\n",
       "    </tr>\n",
       "    <tr>\n",
       "      <th>7</th>\n",
       "      <td>Foto 06.05.18, 15 15 17.jpg</td>\n",
       "      <td>.jpg</td>\n",
       "      <td>2018:05:06 15:15:17</td>\n",
       "    </tr>\n",
       "    <tr>\n",
       "      <th>8</th>\n",
       "      <td>Foto 01.11.22, 10 39 57.jpg</td>\n",
       "      <td>.jpg</td>\n",
       "      <td>2022:11:01 10:39:57</td>\n",
       "    </tr>\n",
       "    <tr>\n",
       "      <th>9</th>\n",
       "      <td>IMG_0547.heic</td>\n",
       "      <td>.heic</td>\n",
       "      <td>2022:01:01 14:10:15</td>\n",
       "    </tr>\n",
       "  </tbody>\n",
       "</table>\n",
       "</div>"
      ],
      "text/plain": [
       "                                       Name   Type      CreateTimestamp\n",
       "0  69292821-d866-4467-bb91-19993fbdf004.JPG   .jpg                False\n",
       "1                              IMG_2282.MOV   .mov                False\n",
       "2                       20151222_091610.jpg   .jpg  2015:12:22 09:16:10\n",
       "3              Foto 01.05.19, 15 23 29.heic  .heic  2019:05:01 15:23:30\n",
       "4              Foto 01.05.19, 15 23 28.heic  .heic  2019:05:01 15:23:28\n",
       "5               Foto 19.10.22, 11 47 56.png   .png                False\n",
       "6                       20151221_151543.jpg   .jpg  2015:12:21 15:15:43\n",
       "7               Foto 06.05.18, 15 15 17.jpg   .jpg  2018:05:06 15:15:17\n",
       "8               Foto 01.11.22, 10 39 57.jpg   .jpg  2022:11:01 10:39:57\n",
       "9                             IMG_0547.heic  .heic  2022:01:01 14:10:15"
      ]
     },
     "execution_count": 5,
     "metadata": {},
     "output_type": "execute_result"
    }
   ],
   "source": [
    "df = pd.DataFrame.from_records(l)\n",
    "\n",
    "df.head(10)"
   ]
  },
  {
   "cell_type": "code",
   "execution_count": 26,
   "metadata": {},
   "outputs": [
    {
     "data": {
      "text/html": [
       "<div>\n",
       "<style scoped>\n",
       "    .dataframe tbody tr th:only-of-type {\n",
       "        vertical-align: middle;\n",
       "    }\n",
       "\n",
       "    .dataframe tbody tr th {\n",
       "        vertical-align: top;\n",
       "    }\n",
       "\n",
       "    .dataframe thead th {\n",
       "        text-align: right;\n",
       "    }\n",
       "</style>\n",
       "<table border=\"1\" class=\"dataframe\">\n",
       "  <thead>\n",
       "    <tr style=\"text-align: right;\">\n",
       "      <th></th>\n",
       "      <th>Name</th>\n",
       "    </tr>\n",
       "    <tr>\n",
       "      <th>Type</th>\n",
       "      <th></th>\n",
       "    </tr>\n",
       "  </thead>\n",
       "  <tbody>\n",
       "    <tr>\n",
       "      <th>.jpg</th>\n",
       "      <td>6115</td>\n",
       "    </tr>\n",
       "    <tr>\n",
       "      <th>.heic</th>\n",
       "      <td>2702</td>\n",
       "    </tr>\n",
       "    <tr>\n",
       "      <th>.mov</th>\n",
       "      <td>775</td>\n",
       "    </tr>\n",
       "    <tr>\n",
       "      <th>.mp4</th>\n",
       "      <td>74</td>\n",
       "    </tr>\n",
       "    <tr>\n",
       "      <th>.jpeg</th>\n",
       "      <td>56</td>\n",
       "    </tr>\n",
       "    <tr>\n",
       "      <th>.png</th>\n",
       "      <td>25</td>\n",
       "    </tr>\n",
       "    <tr>\n",
       "      <th></th>\n",
       "      <td>5</td>\n",
       "    </tr>\n",
       "    <tr>\n",
       "      <th>.pdf</th>\n",
       "      <td>5</td>\n",
       "    </tr>\n",
       "    <tr>\n",
       "      <th>.m4v</th>\n",
       "      <td>4</td>\n",
       "    </tr>\n",
       "    <tr>\n",
       "      <th>.pages</th>\n",
       "      <td>2</td>\n",
       "    </tr>\n",
       "    <tr>\n",
       "      <th>.19, 11 12 12</th>\n",
       "      <td>1</td>\n",
       "    </tr>\n",
       "    <tr>\n",
       "      <th>.mp3</th>\n",
       "      <td>1</td>\n",
       "    </tr>\n",
       "    <tr>\n",
       "      <th>.xlsx</th>\n",
       "      <td>1</td>\n",
       "    </tr>\n",
       "  </tbody>\n",
       "</table>\n",
       "</div>"
      ],
      "text/plain": [
       "               Name\n",
       "Type               \n",
       ".jpg           6115\n",
       ".heic          2702\n",
       ".mov            775\n",
       ".mp4             74\n",
       ".jpeg            56\n",
       ".png             25\n",
       "                  5\n",
       ".pdf              5\n",
       ".m4v              4\n",
       ".pages            2\n",
       ".19, 11 12 12     1\n",
       ".mp3              1\n",
       ".xlsx             1"
      ]
     },
     "execution_count": 26,
     "metadata": {},
     "output_type": "execute_result"
    }
   ],
   "source": [
    "df.groupby('Type').count().sort_values('Name',ascending=False)"
   ]
  }
 ],
 "metadata": {
  "kernelspec": {
   "display_name": "media_renamer",
   "language": "python",
   "name": "python3"
  },
  "language_info": {
   "codemirror_mode": {
    "name": "ipython",
    "version": 3
   },
   "file_extension": ".py",
   "mimetype": "text/x-python",
   "name": "python",
   "nbconvert_exporter": "python",
   "pygments_lexer": "ipython3",
   "version": "3.10.9"
  },
  "orig_nbformat": 4,
  "vscode": {
   "interpreter": {
    "hash": "7f1391fe243788be976a0d68371b6fc2908953b9b0bbc291d611dfb9bae22aa7"
   }
  }
 },
 "nbformat": 4,
 "nbformat_minor": 2
}
